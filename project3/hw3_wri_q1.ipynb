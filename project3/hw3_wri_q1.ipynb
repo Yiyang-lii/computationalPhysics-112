{
 "cells": [
  {
   "cell_type": "code",
   "execution_count": 1,
   "metadata": {},
   "outputs": [],
   "source": [
    "import numpy as np \n",
    "import matplotlib.pyplot as plt\n",
    "import numba\n"
   ]
  },
  {
   "cell_type": "code",
   "execution_count": 2,
   "metadata": {},
   "outputs": [],
   "source": [
    "def generate_the_laplace_matrix_with_size(N=3):\n",
    "    \"\"\"\n",
    "    assume sqrt(N) is an integer. Generate the Laplace matrix with size N\n",
    "\n",
    "    \"\"\"\n",
    "    nsq = N * N\n",
    "    A   = np.zeros((nsq, nsq))\n",
    "    \n",
    "    for i in range(nsq):\n",
    "        for j in range(nsq):\n",
    "            if i == j:\n",
    "                A[i, j] = 4\n",
    "            elif (i == j + N or i == j - N):\n",
    "                A[i, j] = -1\n",
    "            elif (i == j + 1 or i == j - 1):\n",
    "                if (((i + 1) % N == 0 and (j % N == 0)) or ((i % N == 0 and ((j + 1) % N == 0)))) and i != 0 and j != 0:\n",
    "                    A[i, j] = 0\n",
    "                else:\n",
    "                    A[i, j] = -1\n",
    "            else:\n",
    "                A[i, j] = 0\n",
    "\n",
    "\n",
    "    return A"
   ]
  },
  {
   "cell_type": "code",
   "execution_count": 3,
   "metadata": {},
   "outputs": [
    {
     "name": "stdout",
     "output_type": "stream",
     "text": [
      "[[ 4. -1.  0. -1.  0.  0.  0.  0.  0.]\n",
      " [-1.  4. -1.  0. -1.  0.  0.  0.  0.]\n",
      " [ 0. -1.  4.  0.  0. -1.  0.  0.  0.]\n",
      " [-1.  0.  0.  4. -1.  0. -1.  0.  0.]\n",
      " [ 0. -1.  0. -1.  4. -1.  0. -1.  0.]\n",
      " [ 0.  0. -1.  0. -1.  4.  0.  0. -1.]\n",
      " [ 0.  0.  0. -1.  0.  0.  4. -1.  0.]\n",
      " [ 0.  0.  0.  0. -1.  0. -1.  4. -1.]\n",
      " [ 0.  0.  0.  0.  0. -1.  0. -1.  4.]]\n"
     ]
    }
   ],
   "source": [
    "N = 3\n",
    "A = generate_the_laplace_matrix_with_size(N)\n",
    "print(A)"
   ]
  },
  {
   "cell_type": "code",
   "execution_count": 4,
   "metadata": {},
   "outputs": [],
   "source": [
    "def generate_the_rhs_vector_with_size(N=3):\n",
    "    \"\"\"\n",
    "    Assume sqrt(N) is an integer. Generate the right-hand side vector with size N\n",
    "    \"\"\"\n",
    "    b = np.zeros(N * N)\n",
    "    #TODO\n",
    "    for i in range(N * N):\n",
    "        if i == 4:\n",
    "            b[i] = 1\n",
    "        else:\n",
    "            b[i] = 0\n",
    "    \n",
    "    return b"
   ]
  },
  {
   "cell_type": "code",
   "execution_count": 5,
   "metadata": {},
   "outputs": [
    {
     "name": "stdout",
     "output_type": "stream",
     "text": [
      "[0. 0. 0. 0. 1. 0. 0. 0. 0.]\n"
     ]
    }
   ],
   "source": [
    "b = generate_the_rhs_vector_with_size(N=N)\n",
    "print(b)"
   ]
  },
  {
   "cell_type": "code",
   "execution_count": 6,
   "metadata": {},
   "outputs": [],
   "source": [
    "from scipy import linalg\n",
    "\n",
    "x = linalg.solve(A, b)"
   ]
  },
  {
   "cell_type": "code",
   "execution_count": 7,
   "metadata": {},
   "outputs": [],
   "source": [
    "def convert_solution(x):\n",
    "    usize = np.sqrt(len(x))\n",
    "    # print(usize)\n",
    "    u = x.reshape(int(usize),int(usize)).transpose()\n",
    "    return u"
   ]
  },
  {
   "cell_type": "code",
   "execution_count": 8,
   "metadata": {},
   "outputs": [
    {
     "name": "stdout",
     "output_type": "stream",
     "text": [
      "[[0.0625 0.125  0.0625]\n",
      " [0.125  0.375  0.125 ]\n",
      " [0.0625 0.125  0.0625]]\n"
     ]
    }
   ],
   "source": [
    "u = convert_solution(x)\n",
    "print(u)"
   ]
  }
 ],
 "metadata": {
  "kernelspec": {
   "display_name": "Python 3",
   "language": "python",
   "name": "python3"
  },
  "language_info": {
   "codemirror_mode": {
    "name": "ipython",
    "version": 3
   },
   "file_extension": ".py",
   "mimetype": "text/x-python",
   "name": "python",
   "nbconvert_exporter": "python",
   "pygments_lexer": "ipython3",
   "version": "3.9.6"
  }
 },
 "nbformat": 4,
 "nbformat_minor": 2
}
